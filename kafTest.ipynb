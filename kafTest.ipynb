{
 "cells": [
  {
   "cell_type": "code",
   "execution_count": 4,
   "metadata": {},
   "outputs": [
    {
     "name": "stdout",
     "output_type": "stream",
     "text": [
      "Message delivered to my-topic [0]\n",
      "Message delivered to my-topic [0]\n",
      "Message delivered to my-topic [0]\n",
      "Message delivered to my-topic [0]\n",
      "Message delivered to my-topic [0]\n",
      "Message delivered to my-topic [0]\n",
      "Message delivered to my-topic [0]\n",
      "Message delivered to my-topic [0]\n",
      "Message delivered to my-topic [0]\n",
      "Message delivered to my-topic [0]\n"
     ]
    },
    {
     "data": {
      "text/plain": [
       "0"
      ]
     },
     "execution_count": 4,
     "metadata": {},
     "output_type": "execute_result"
    }
   ],
   "source": [
    "from confluent_kafka import Producer\n",
    "import json\n",
    "\n",
    "def delivery_report(err, msg):\n",
    "    \"\"\" Called once for each message produced to indicate delivery result.\n",
    "        Triggered by poll() or flush(). \"\"\"\n",
    "    if err is not None:\n",
    "        print(f'Message delivery failed: {err}')\n",
    "    else:\n",
    "        print(f'Message delivered to {msg.topic()} [{msg.partition()}]')\n",
    "\n",
    "# Configure the producer\n",
    "p = Producer({'bootstrap.servers': 'localhost:9092'})\n",
    "\n",
    "topic = 'quickstart-events'\n",
    "\n",
    "for i in range(10):\n",
    "    data = {'number': i}\n",
    "    # Trigger any available delivery report callbacks from previous produce() calls\n",
    "    p.poll(0)\n",
    "\n",
    "    # Asynchronously produce a message, the delivery report callback will be triggered from poll() above, or flush() below, when the message has been successfully delivered or failed permanently.\n",
    "    p.produce(topic, json.dumps(data).encode('utf-8'), callback=delivery_report)\n",
    "\n",
    "# Wait for any outstanding messages to be delivered and delivery report callbacks to be triggered.\n",
    "p.flush()\n"
   ]
  },
  {
   "cell_type": "code",
   "execution_count": null,
   "metadata": {},
   "outputs": [],
   "source": [
    "from confluent_kafka import Consumer, KafkaError\n",
    "\n",
    "# Configure the consumer\n",
    "c = Consumer({\n",
    "    'bootstrap.servers': 'localhost:9092',\n",
    "    'group.id': 'my-group',\n",
    "    'auto.offset.reset': 'earliest'\n",
    "})\n",
    "\n",
    "c.subscribe(['quickstart-events'])\n",
    "\n",
    "try:\n",
    "    i = 0\n",
    "    while i < 10:\n",
    "        msg = c.poll(timeout=1.0)  # Adjust poll timeout as needed\n",
    "        i += 1\n",
    "        if msg is None:\n",
    "            continue\n",
    "        if msg.error():\n",
    "            if msg.error().code() == KafkaError._PARTITION_EOF:\n",
    "                # End of partition event\n",
    "                print(f'{msg.topic()} [{msg.partition()}] reached end at offset {msg.offset()}')\n",
    "            elif msg.error():\n",
    "                raise KafkaException(msg.error())\n",
    "        else:\n",
    "            # Message is a normal message\n",
    "            print(f'Message: {msg.value().decode(\"utf-8\")}')\n",
    "finally:\n",
    "    # Clean up on exit\n",
    "    c.close()\n"
   ]
  }
 ],
 "metadata": {
  "kernelspec": {
   "display_name": "Python 3",
   "language": "python",
   "name": "python3"
  },
  "language_info": {
   "codemirror_mode": {
    "name": "ipython",
    "version": 3
   },
   "file_extension": ".py",
   "mimetype": "text/x-python",
   "name": "python",
   "nbconvert_exporter": "python",
   "pygments_lexer": "ipython3",
   "version": "3.10.11"
  }
 },
 "nbformat": 4,
 "nbformat_minor": 2
}
