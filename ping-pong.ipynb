{
 "cells": [
  {
   "cell_type": "code",
   "execution_count": null,
   "metadata": {},
   "outputs": [],
   "source": [
    "import socket\n",
    "\n",
    "def start_pinger():\n",
    "    # Define host and port to connect to (same as the ponger)\n",
    "    host = '127.0.0.1'\n",
    "    port = 65432\n",
    "\n",
    "    with socket.socket(socket.AF_INET, socket.SOCK_STREAM) as s:\n",
    "        s.connect((host, port))\n",
    "        s.sendall(b'Ping!')\n",
    "        print(\"Message sent: Ping!\")\n",
    "\n",
    "start_pinger()\n"
   ]
  }
 ],
 "metadata": {
  "language_info": {
   "name": "python"
  }
 },
 "nbformat": 4,
 "nbformat_minor": 2
}
